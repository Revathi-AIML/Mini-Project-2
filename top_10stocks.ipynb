{
 "cells": [
  {
   "cell_type": "code",
   "execution_count": null,
   "id": "1d29722c",
   "metadata": {},
   "outputs": [],
   "source": [
    "import os\n",
    "import pandas as pd\n",
    "\n",
    "data_folder = r\"F:\\vscode\\stock_analysis\\env\\Scripts\\segregated_csv\"\n",
    "all_data = []\n",
    "for file in os.listdir(data_folder):\n",
    "    if file.endswith(\".csv\"):\n",
    "        df=pd.read_csv(os.path.join(data_folder,file))\n",
    "        df['Ticker']=file.replace('.csv','')\n",
    "        all_data.append(df)\n",
    "\n",
    "combined_df = pd.concat(all_data, ignore_index=True)"
   ]
  },
  {
   "cell_type": "code",
   "execution_count": 5,
   "id": "275d5e7f",
   "metadata": {},
   "outputs": [],
   "source": [
    "returns_df = combined_df.groupby('Ticker').agg(\n",
    "    start_price = ('close','first'),\n",
    "    end_price = ('close','last'),\n",
    "    avg_volume = ('volume','mean'),\n",
    "    avg_price = ('close','mean')    \n",
    ")\n",
    "returns_df['yearly_return'] = ((returns_df['end_price'] - returns_df['start_price']) / returns_df['start_price']) * 100"
   ]
  },
  {
   "cell_type": "code",
   "execution_count": 6,
   "id": "77447fbb",
   "metadata": {},
   "outputs": [
    {
     "name": "stdout",
     "output_type": "stream",
     "text": [
      "Top 10 Green Stocks\n",
      "Ticker\n",
      "TRENT         223.092613\n",
      "BEL           101.760057\n",
      "M&M            95.976974\n",
      "BAJAJ-AUTO     89.011153\n",
      "BHARTIARTL     69.599049\n",
      "POWERGRID      68.854924\n",
      "BPCL           67.477150\n",
      "HEROMOTOCO     58.976655\n",
      "SUNPHARMA      57.282404\n",
      "HCLTECH        53.257447\n",
      "Name: yearly_return, dtype: float64\n"
     ]
    }
   ],
   "source": [
    "top_10_green = returns_df.sort_values(by='yearly_return', ascending=False).head(10)\n",
    "print(\"Top 10 Green Stocks\")\n",
    "print(top_10_green['yearly_return'])"
   ]
  },
  {
   "cell_type": "code",
   "execution_count": 7,
   "id": "123a5196",
   "metadata": {},
   "outputs": [
    {
     "name": "stdout",
     "output_type": "stream",
     "text": [
      "Top 10 Loss Stocks\n",
      "Ticker\n",
      "INDUSINDBK   -30.458409\n",
      "ASIANPAINT   -21.935046\n",
      "BAJFINANCE   -16.110874\n",
      "ADANIENT      -6.670856\n",
      "HINDUNILVR    -0.957916\n",
      "NESTLEIND      0.707141\n",
      "KOTAKBANK      1.991836\n",
      "BAJAJFINSV     2.549566\n",
      "TITAN          3.518185\n",
      "MARUTI         6.926712\n",
      "Name: yearly_return, dtype: float64\n"
     ]
    }
   ],
   "source": [
    "top_10_loss = returns_df.sort_values(by='yearly_return').head(10)\n",
    "print(\"Top 10 Loss Stocks\")\n",
    "print(top_10_loss['yearly_return'])"
   ]
  },
  {
   "cell_type": "code",
   "execution_count": 9,
   "id": "fe3ad829",
   "metadata": {},
   "outputs": [
    {
     "name": "stdout",
     "output_type": "stream",
     "text": [
      "Market Summary : \n",
      "{'Green_Stocks': 45, 'Red_Stocks': 5, 'Average_Price': 2449.415379577465, 'Average_Volume': 6833474.649154929}\n"
     ]
    }
   ],
   "source": [
    "returns_df['performance'] = returns_df['yearly_return'].apply(lambda x: 'Green' if x > 0 else 'Red')\n",
    "\n",
    "market_summary = {\n",
    "    'Green_Stocks' : int((returns_df['performance'] == 'Green').sum()),\n",
    "    'Red_Stocks' : int((returns_df['performance'] == 'Red').sum()),\n",
    "    'Average_Price' : float(combined_df['close'].mean()),\n",
    "    'Average_Volume' : float(combined_df['volume'].mean())\n",
    "}\n",
    "print(\"Market Summary : \")\n",
    "print(market_summary)"
   ]
  },
  {
   "cell_type": "code",
   "execution_count": null,
   "id": "cb9058f2",
   "metadata": {},
   "outputs": [],
   "source": []
  }
 ],
 "metadata": {
  "kernelspec": {
   "display_name": "env",
   "language": "python",
   "name": "python3"
  },
  "language_info": {
   "codemirror_mode": {
    "name": "ipython",
    "version": 3
   },
   "file_extension": ".py",
   "mimetype": "text/x-python",
   "name": "python",
   "nbconvert_exporter": "python",
   "pygments_lexer": "ipython3",
   "version": "3.13.3"
  }
 },
 "nbformat": 4,
 "nbformat_minor": 5
}
