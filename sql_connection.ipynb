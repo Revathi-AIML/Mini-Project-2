{
 "cells": [
  {
   "cell_type": "code",
   "execution_count": 1,
   "id": "79fb1a8c",
   "metadata": {},
   "outputs": [
    {
     "name": "stdout",
     "output_type": "stream",
     "text": [
      "Data successfully stored in MySql under 'stock_data' table\n",
      "         Ticker    close                 date     high      low    month  \\\n",
      "0      ADANIENT  2387.25  2023-10-03 05:30:00  2424.90  2372.00  2023-10   \n",
      "1      ADANIENT  2464.95  2023-10-04 05:30:00  2502.75  2392.25  2023-10   \n",
      "2      ADANIENT  2466.35  2023-10-05 05:30:00  2486.50  2446.40  2023-10   \n",
      "3      ADANIENT  2478.10  2023-10-06 05:30:00  2514.95  2466.05  2023-10   \n",
      "4      ADANIENT  2442.60  2023-10-09 05:30:00  2459.70  2411.30  2023-10   \n",
      "...         ...      ...                  ...      ...      ...      ...   \n",
      "14195     WIPRO   566.70  2024-11-14 05:30:00   574.55   564.20  2024-11   \n",
      "14196     WIPRO   552.85  2024-11-18 05:30:00   566.70   540.30  2024-11   \n",
      "14197     WIPRO   562.00  2024-11-19 05:30:00   569.80   554.70  2024-11   \n",
      "14198     WIPRO   557.15  2024-11-21 05:30:00   567.60   555.30  2024-11   \n",
      "14199     WIPRO   571.65  2024-11-22 05:30:00   573.60   557.90  2024-11   \n",
      "\n",
      "          open   volume  prev_close  daily_return         sector  \n",
      "0      2418.00  2019899         NaN           NaN  MISCELLANEOUS  \n",
      "1      2402.20  2857377     2387.25      0.032548  MISCELLANEOUS  \n",
      "2      2477.95  1132455     2464.95      0.000568  MISCELLANEOUS  \n",
      "3      2466.35  1510035     2466.35      0.004764  MISCELLANEOUS  \n",
      "4      2440.00  1408224     2478.10     -0.014325  MISCELLANEOUS  \n",
      "...        ...      ...         ...           ...            ...  \n",
      "14195   568.95  4891760      569.00     -0.004042       SOFTWARE  \n",
      "14196   566.70  7644882      566.70     -0.024440       SOFTWARE  \n",
      "14197   556.00  6459889      552.85      0.016551       SOFTWARE  \n",
      "14198   562.00  5836304      562.00     -0.008630       SOFTWARE  \n",
      "14199   561.95  7366616      557.15      0.026025       SOFTWARE  \n",
      "\n",
      "[14200 rows x 11 columns]\n"
     ]
    }
   ],
   "source": [
    "\n",
    "import pandas as pd\n",
    "from sqlalchemy import create_engine\n",
    "\n",
    "host = \"localhost\"\n",
    "user = \"Revathi\"\n",
    "password = \"Nithisha_6\"\n",
    "port = 3306\n",
    "database= \"MAT4\"\n",
    "engine=create_engine(f'mysql+pymysql://{user}:{password}@{host}:{port}/{database}')\n",
    "\n",
    "df=pd.read_csv(\"sectorwise_data.csv\")\n",
    "\n",
    "df.to_sql(name='stock_data', con=engine, if_exists='replace', index=False)\n",
    "print(\"Data successfully stored in MySql under 'stock_data' table\")\n",
    "\n",
    "query_df = pd.read_sql(\"SELECT * FROM stock_data\", con=engine)\n",
    "print(query_df)"
   ]
  },
  {
   "cell_type": "code",
   "execution_count": null,
   "id": "8c616b08",
   "metadata": {},
   "outputs": [],
   "source": []
  }
 ],
 "metadata": {
  "kernelspec": {
   "display_name": "env",
   "language": "python",
   "name": "python3"
  },
  "language_info": {
   "codemirror_mode": {
    "name": "ipython",
    "version": 3
   },
   "file_extension": ".py",
   "mimetype": "text/x-python",
   "name": "python",
   "nbconvert_exporter": "python",
   "pygments_lexer": "ipython3",
   "version": "3.13.3"
  }
 },
 "nbformat": 4,
 "nbformat_minor": 5
}
